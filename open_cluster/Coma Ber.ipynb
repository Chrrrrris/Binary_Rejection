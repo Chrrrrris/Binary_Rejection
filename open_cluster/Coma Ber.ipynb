{
 "cells": [
  {
   "cell_type": "code",
   "execution_count": 1,
   "id": "e8c0cfc0",
   "metadata": {},
   "outputs": [],
   "source": [
    "from astropy.io import fits\n",
    "from astropy.table import Table\n",
    "import pandas as pd\n",
    "import numpy as np\n",
    "import matplotlib.pyplot as plt"
   ]
  },
  {
   "cell_type": "code",
   "execution_count": 2,
   "id": "d0c50bb1",
   "metadata": {},
   "outputs": [],
   "source": [
    "with fits.open('NearbyClustersGaia_GALEX_SDSS_Skymapper_2MASS_WISE_ASASSN.fits') as hdu:\n",
    "    asn_table = Table(hdu[1].data)\n",
    "df = asn_table.to_pandas()\n",
    "df_Coma = df[(df['Cluster']=='ComaBer ')]"
   ]
  },
  {
   "cell_type": "code",
   "execution_count": 3,
   "id": "5caaf96b",
   "metadata": {},
   "outputs": [
    {
     "name": "stderr",
     "output_type": "stream",
     "text": [
      "<ipython-input-3-1120e0fa2391>:1: SettingWithCopyWarning: \n",
      "A value is trying to be set on a copy of a slice from a DataFrame\n",
      "\n",
      "See the caveats in the documentation: https://pandas.pydata.org/pandas-docs/stable/user_guide/indexing.html#returning-a-view-versus-a-copy\n",
      "  df_Coma.dropna(subset = ['gmag','rpmag','bpmag'], inplace = True)\n",
      "<ipython-input-3-1120e0fa2391>:2: SettingWithCopyWarning: \n",
      "A value is trying to be set on a copy of a slice from a DataFrame\n",
      "\n",
      "See the caveats in the documentation: https://pandas.pydata.org/pandas-docs/stable/user_guide/indexing.html#returning-a-view-versus-a-copy\n",
      "  df_Coma.sort_values(by=['gmag'], inplace=True)\n"
     ]
    }
   ],
   "source": [
    "df_Coma.dropna(subset = ['gmag','rpmag','bpmag'], inplace = True)\n",
    "df_Coma.sort_values(by=['gmag'], inplace=True)"
   ]
  },
  {
   "cell_type": "code",
   "execution_count": 106,
   "id": "12513239",
   "metadata": {},
   "outputs": [],
   "source": [
    "x = np.array(df_Coma['gmag'])\n",
    "y = np.array(df_Coma['bpmag']- df_Coma['rpmag'])\n",
    "x_s1 = []\n",
    "y_s1=[]\n",
    "x_s2 = []\n",
    "y_s2 = []\n",
    "x_s3 = []\n",
    "y_s3 = []\n",
    "for i in range(len(x)):    \n",
    "    if (6<=x[i]<=13):\n",
    "        x_s1.append(x[i])\n",
    "        y_s1.append(y[i])\n",
    "    elif(13<x[i]):\n",
    "        x_s2.append(x[i])\n",
    "        y_s2.append(y[i])\n",
    "    elif(x[i]<6):\n",
    "        x_s3.append(x[i])\n",
    "        y_s3.append(y[i])"
   ]
  },
  {
   "cell_type": "code",
   "execution_count": 107,
   "id": "009e942f",
   "metadata": {},
   "outputs": [
    {
     "data": {
      "image/png": "[encoded data removed]",
      "text/plain": [
       "<Figure size 432x288 with 1 Axes>"
      ]
     },
     "metadata": {
      "needs_background": "light"
     },
     "output_type": "display_data"
    }
   ],
   "source": [
    "plt.scatter(x, y, s = 1)\n",
    "plt.xlim(22,2)\n",
    "plt.xlabel('G')\n",
    "plt.ylabel('BP-RP')\n",
    "plt.show()"
   ]
  },
  {
   "cell_type": "code",
   "execution_count": 108,
   "id": "43235a14",
   "metadata": {},
   "outputs": [],
   "source": [
    "# Extract the outliers\n",
    "outliers_5sigma = [] #outliers outside of the 2 sigma value\n",
    "y_5sigma = [] # corresponding bp-rp values\n",
    "outliers_2sigma = [] #outliers outside of the 1.5 sigma value\n",
    "y_2sigma = [] # corresponding bp-rp values"
   ]
  },
  {
   "cell_type": "code",
   "execution_count": 109,
   "id": "6c75a43d",
   "metadata": {},
   "outputs": [],
   "source": [
    "from scipy.interpolate import UnivariateSpline\n",
    "def rejection(x_s1, y_s1, outliers_5sigma, y_5sigma, outliers_2sigma, y_2sigma):\n",
    "    # get the difference between the values predicted by the model and the actual bp-rp values\n",
    "    for j in range(20):\n",
    "        diff = []\n",
    "        model = UnivariateSpline(x_s1, y_s1, k=4)\n",
    "        predicted = model(x_s1)\n",
    "        #predicted = np.arange(len(x_s1), dtype=float)\n",
    "        #for i in range(len(np.array(x_s1))):\n",
    "         #   predicted[i] = predict(np.array(x_s1)[i])\n",
    "\n",
    "        # get the difference between the values predicted by the model and the actual bp-rp values\n",
    "        diff = y_s1 - predicted\n",
    "\n",
    "        #get the standard deviation of the differences\n",
    "        sigma = []\n",
    "        precision = 10*(10**(-3))\n",
    "        for n in range(len(x_s1)):\n",
    "            if x_s1[n] <13:\n",
    "                precision = 8*(10**(-3))\n",
    "            elif x_s1[n] < 18:\n",
    "                precision = 16*(10**(-3))\n",
    "            else:\n",
    "                precision = 200*(10**(-3))\n",
    "            sigma.append(np.sqrt(2*precision**2))\n",
    "        sigma = np.array(sigma)\n",
    "        x_filtered = []\n",
    "        y_filtered = []\n",
    "        if j == 0:\n",
    "            for k in range(len(diff)):\n",
    "                if np.abs(diff[k]) >= 15*sigma[k]: #and 13<= x_s1[k]< 18:\n",
    "                    outliers_5sigma.append(x_s1[k])\n",
    "                    y_5sigma.append(y_s1[k])\n",
    "\n",
    "                #elif diff[k] >= 2*sigma[k]:\n",
    "                 #   outliers_2sigma.append(x_s1[k])\n",
    "                  #  y_2sigma.append(y_s1[k])\n",
    "                else:\n",
    "                    x_filtered.append(x_s1[k])\n",
    "                    y_filtered.append(y_s1[k])\n",
    "            x_s1 = x_filtered\n",
    "            y_s1 = y_filtered\n",
    "        else:\n",
    "            for k in range(len(diff)):\n",
    "                if np.abs(diff[k]) >= 5*sigma[k]:\n",
    "                    outliers_5sigma.append(x_s1[k])\n",
    "                    y_5sigma.append(y_s1[k])\n",
    "\n",
    "                #elif diff[k] >= 2*sigma[k]:\n",
    "                 #   outliers_2sigma.append(x_s1[k])\n",
    "                  #  y_2sigma.append(y_s1[k])\n",
    "                else:\n",
    "                    x_filtered.append(x_s1[k])\n",
    "                    y_filtered.append(y_s1[k])\n",
    "            x_s1 = x_filtered\n",
    "            y_s1 = y_filtered\n",
    "        \n",
    "    return x_s1, y_s1,outliers_5sigma, y_5sigma, outliers_2sigma, y_2sigma, model\n",
    "\n"
   ]
  },
  {
   "cell_type": "code",
   "execution_count": 110,
   "id": "0a569f0c",
   "metadata": {},
   "outputs": [],
   "source": [
    "x_s1, y_s1, outliers_5sigma, y_5sigma, outliers_2sigma, y_2sigma, model = rejection(x_s1, y_s1, outliers_5sigma, y_5sigma, outliers_2sigma, y_2sigma)\n",
    "x_s2, y_s2, outliers_5sigma, y_5sigma, outliers_2sigma, y_2sigma, model1 = rejection(x_s2, y_s2, outliers_5sigma, y_5sigma, outliers_2sigma, y_2sigma)\n",
    "\n",
    "\n"
   ]
  },
  {
   "cell_type": "code",
   "execution_count": 111,
   "id": "38babc02",
   "metadata": {},
   "outputs": [
    {
     "data": {
      "image/png": "[encoded data removed]",
      "text/plain": [
       "<Figure size 432x288 with 1 Axes>"
      ]
     },
     "metadata": {
      "needs_background": "light"
     },
     "output_type": "display_data"
    }
   ],
   "source": [
    "# plot the good values alongside the rejected values and the fitted line\n",
    "plt.xlim(20,4)\n",
    "plt.ylim(-0.2,4.5)\n",
    "xs = np.linspace(4, 13, 2000)\n",
    "xs1 = np.linspace(13,20,1000)\n",
    "plt.plot(xs, model(xs), 'r', label = 'fitted line',lw=1)\n",
    "plt.plot(xs1, model1(xs1), 'r', lw=1)\n",
    "plt.scatter(x_s2, y_s2, c = 'b', label = 'Main sequence stars', s = 1)\n",
    "plt.scatter(x_s1, y_s1, c = 'b', s = 1)\n",
    "plt.scatter(x_s3, y_s3 , c = 'm', label = 'non main sequence', s = 1)\n",
    "plt.scatter(outliers_5sigma, y_5sigma, c = 'g', label = '5 sigma rejection', s=1)\n",
    "#plt.scatter(outliers_2sigma, y_2sigma, c = 'm',label = '2 sigma rejection', s=1)\n",
    "plt.xlabel('G')\n",
    "plt.ylabel('BP-RP')\n",
    "\n",
    "#plt.plot(x_lin_reg1, y_lin_reg1, c = 'r', label='Fitted line1')\n",
    "plt.title('Coma Ber')\n",
    "plt.legend()\n",
    "plt.show()"
   ]
  },
  {
   "cell_type": "code",
   "execution_count": 44,
   "id": "5e1fa2df",
   "metadata": {},
   "outputs": [
    {
     "data": {
      "text/plain": [
       "139"
      ]
     },
     "execution_count": 44,
     "metadata": {},
     "output_type": "execute_result"
    }
   ],
   "source": []
  },
  {
   "cell_type": "code",
   "execution_count": null,
   "id": "56298c12",
   "metadata": {},
   "outputs": [],
   "source": []
  }
 ],
 "metadata": {
  "kernelspec": {
   "display_name": "Python 3",
   "language": "python",
   "name": "python3"
  },
  "language_info": {
   "codemirror_mode": {
    "name": "ipython",
    "version": 3
   },
   "file_extension": ".py",
   "mimetype": "text/x-python",
   "name": "python",
   "nbconvert_exporter": "python",
   "pygments_lexer": "ipython3",
   "version": "3.8.8"
  }
 },
 "nbformat": 4,
 "nbformat_minor": 5
}
