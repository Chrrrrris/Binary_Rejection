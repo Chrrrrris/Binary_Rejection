{
 "cells": [
  {
   "cell_type": "code",
   "execution_count": 1,
   "id": "9940b2c1",
   "metadata": {},
   "outputs": [],
   "source": [
    "from scipy.interpolate import UnivariateSpline\n",
    "def rejection(x_s1, y_s1, outliers_5sigma, y_5sigma, outliers_2sigma, y_2sigma):\n",
    "    # get the difference between the values predicted by the model and the actual bp-rp values\n",
    "    for j in range(20):\n",
    "        diff = []\n",
    "        model = UnivariateSpline(x_s1, y_s1, k=5)\n",
    "        predicted = model(x_s1)\n",
    "        #predicted = np.arange(len(x_s1), dtype=float)\n",
    "        #for i in range(len(np.array(x_s1))):\n",
    "         #   predicted[i] = predict(np.array(x_s1)[i])\n",
    "\n",
    "        # get the difference between the values predicted by the model and the actual bp-rp values\n",
    "        diff = y_s1 - predicted\n",
    "\n",
    "        #get the standard deviation of the differences\n",
    "        sigma = []\n",
    "        precision = 10*(10**(-3))\n",
    "        for n in range(len(x_s1)):\n",
    "            if x_s1[n] <13:\n",
    "                precision = 8*(10**(-3))\n",
    "            elif x_s1[n] < 18:\n",
    "                precision = 16*(10**(-3))\n",
    "            else:\n",
    "                precision = 200*(10**(-3))\n",
    "            sigma.append(np.sqrt(2*precision**2))\n",
    "        sigma = np.array(sigma)\n",
    "        x_filtered = []\n",
    "        y_filtered = []\n",
    "        if j == 0:\n",
    "            for k in range(len(diff)):\n",
    "                if np.abs(diff[k]) >= 10*sigma[k]: #and 13<= x_s1[k]< 18:\n",
    "                    outliers_5sigma.append(x_s1[k])\n",
    "                    y_5sigma.append(y_s1[k])\n",
    "\n",
    "                #elif diff[k] >= 2*sigma[k]:\n",
    "                 #   outliers_2sigma.append(x_s1[k])\n",
    "                  #  y_2sigma.append(y_s1[k])\n",
    "                else:\n",
    "                    x_filtered.append(x_s1[k])\n",
    "                    y_filtered.append(y_s1[k])\n",
    "            x_s1 = x_filtered\n",
    "            y_s1 = y_filtered\n",
    "        else:\n",
    "            for k in range(len(diff)):\n",
    "                if np.abs(diff[k]) >= 5*sigma[k]:\n",
    "                    outliers_5sigma.append(x_s1[k])\n",
    "                    y_5sigma.append(y_s1[k])\n",
    "\n",
    "                #elif diff[k] >= 2*sigma[k]:\n",
    "                 #   outliers_2sigma.append(x_s1[k])\n",
    "                  #  y_2sigma.append(y_s1[k])\n",
    "                else:\n",
    "                    x_filtered.append(x_s1[k])\n",
    "                    y_filtered.append(y_s1[k])\n",
    "            x_s1 = x_filtered\n",
    "            y_s1 = y_filtered\n",
    "        \n",
    "    return x_s1, y_s1,outliers_5sigma, y_5sigma, outliers_2sigma, y_2sigma, model\n",
    "\n"
   ]
  },
  {
   "cell_type": "code",
   "execution_count": 3,
   "id": "92f9ea97",
   "metadata": {},
   "outputs": [],
   "source": [
    "def segments(dataframe, cluster_name):\n",
    "    df_cluster = dataframe[(dataframe['Cluster']==cluster_name)]\n",
    "    df_cluster.dropna(subset = ['gmag','rpmag','bpmag'], inplace = True)\n",
    "    df_cluster.sort_values(by=['gmag'], inplace=True)\n",
    "    x = np.array(df_cluster['gmag'])\n",
    "    y = np.array(df_cluster['bpmag']- df_cluster['rpmag'])\n",
    "    #function needed to exclude non main sequence\n",
    "    for i in range(len(x)):\n",
    "        if (x[i]<=13):\n",
    "            x_s1.append(x[i])\n",
    "            y_s1.append(y[i])\n",
    "        else:\n",
    "            x_s2.append(x[i])\n",
    "            y_s2.append(y[i])\n",
    "        return df_cluster, x, y, x_s1, x_s2"
   ]
  },
  {
   "cell_type": "code",
   "execution_count": null,
   "id": "bb2eb7fa",
   "metadata": {},
   "outputs": [],
   "source": [
    "def turnoff():\n",
    "    "
   ]
  }
 ],
 "metadata": {
  "kernelspec": {
   "display_name": "Python 3",
   "language": "python",
   "name": "python3"
  },
  "language_info": {
   "codemirror_mode": {
    "name": "ipython",
    "version": 3
   },
   "file_extension": ".py",
   "mimetype": "text/x-python",
   "name": "python",
   "nbconvert_exporter": "python",
   "pygments_lexer": "ipython3",
   "version": "3.8.8"
  }
 },
 "nbformat": 4,
 "nbformat_minor": 5
}
