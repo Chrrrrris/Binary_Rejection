{
 "cells": [
  {
   "cell_type": "code",
   "execution_count": 1,
   "id": "ae934f13",
   "metadata": {},
   "outputs": [],
   "source": [
    "def rejection(x_s1, y_s1, outliers_5sigma, y_5sigma, outliers_2sigma, y_2sigma):\n",
    "    # get the difference between the values predicted by the model and the actual bp-rp values\n",
    "    for j in range(2):\n",
    "        diff = []\n",
    "        model = np.polyfit(x_s1, y_s1, 20)\n",
    "        predict = np.poly1d(model)\n",
    "        predicted = np.arange(len(x_s1), dtype=float)\n",
    "        for i in range(len(np.array(x_s1))):\n",
    "            predicted[i] = predict(np.array(x_s1)[i])\n",
    "\n",
    "        # get the difference between the values predicted by the model and the actual bp-rp values\n",
    "        diff = y_s1 - predicted\n",
    "\n",
    "        #get the standard deviation of the differences\n",
    "        sigma = []\n",
    "        precision = 10*(10**(-3))\n",
    "        for n in range(len(x_s1)):\n",
    "            if x_s1[n] <13:\n",
    "                precision = 2*(10**(-3))\n",
    "            elif x_s1[n] < 18:\n",
    "                precision = 10*(10**(-3))\n",
    "            else:\n",
    "                precision = 200*(10**(-3))\n",
    "            sigma.append(np.sqrt(2*precision**2))\n",
    "        sigma = np.array(sigma)\n",
    "        x_filtered = []\n",
    "        y_filtered = []\n",
    "        for k in range(len(diff)):\n",
    "            if diff[k] >= 5*sigma[k]:\n",
    "                outliers_5sigma.append(x_s1[k])\n",
    "                y_5sigma.append(y_s1[k])\n",
    "    \n",
    "            #elif diff[k] >= 2*sigma[k]:\n",
    "             #   outliers_2sigma.append(x_s1[k])\n",
    "              #  y_2sigma.append(y_s1[k])\n",
    "            else:\n",
    "                x_filtered.append(x_s1[k])\n",
    "                y_filtered.append(y_s1[k])\n",
    "        x_s1 = x_filtered\n",
    "        y_s1 = y_filtered\n",
    "    outliers_5sigma = np.array(outliers_5sigma)\n",
    "    outliers_2sigma = np.array(outliers_2sigma)\n",
    "        \n",
    "    return x_s1, y_s1,outliers_5sigma, y_5sigma, outliers_2sigma, y_2sigma, predict\n",
    "\n"
   ]
  },
  {
   "cell_type": "code",
   "execution_count": null,
   "id": "f468e9db",
   "metadata": {},
   "outputs": [],
   "source": []
  }
 ],
 "metadata": {
  "kernelspec": {
   "display_name": "Python 3",
   "language": "python",
   "name": "python3"
  },
  "language_info": {
   "codemirror_mode": {
    "name": "ipython",
    "version": 3
   },
   "file_extension": ".py",
   "mimetype": "text/x-python",
   "name": "python",
   "nbconvert_exporter": "python",
   "pygments_lexer": "ipython3",
   "version": "3.9.4"
  }
 },
 "nbformat": 4,
 "nbformat_minor": 5
}
