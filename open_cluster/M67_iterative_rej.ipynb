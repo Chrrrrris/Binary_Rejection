{
 "cells": [
  {
   "cell_type": "code",
   "execution_count": 1,
   "id": "7e364d1f",
   "metadata": {},
   "outputs": [],
   "source": [
    "from astropy.io import fits\n",
    "from astropy.table import Table\n",
    "import pandas as pd\n",
    "import numpy as np\n",
    "import matplotlib.pyplot as plt"
   ]
  },
  {
   "cell_type": "code",
   "execution_count": 2,
   "id": "7e8c82b9",
   "metadata": {},
   "outputs": [],
   "source": [
    "with fits.open('DistantClustersGaia_GALEX_SDSS_Skymapper_2MASS_WISE_ASASSN.fits') as hdu:\n",
    "    asn_table = Table(hdu[1].data)\n",
    "df = asn_table.to_pandas()"
   ]
  },
  {
   "cell_type": "code",
   "execution_count": 3,
   "id": "7596cd3f",
   "metadata": {},
   "outputs": [
    {
     "name": "stderr",
     "output_type": "stream",
     "text": [
      "<ipython-input-3-a8ac245f8f99>:2: SettingWithCopyWarning: \n",
      "A value is trying to be set on a copy of a slice from a DataFrame\n",
      "\n",
      "See the caveats in the documentation: https://pandas.pydata.org/pandas-docs/stable/user_guide/indexing.html#returning-a-view-versus-a-copy\n",
      "  df_NGC.dropna(subset = ['gmag','rpmag','bpmag'], inplace = True)\n"
     ]
    }
   ],
   "source": [
    "df_NGC = df[(df['Cluster']=='NGC2682 ')]\n",
    "df_NGC.dropna(subset = ['gmag','rpmag','bpmag'], inplace = True)"
   ]
  },
  {
   "cell_type": "code",
   "execution_count": 4,
   "id": "0ae8e407",
   "metadata": {},
   "outputs": [],
   "source": [
    "# allocate data for g_magnitude and bp-rp to x and y\n",
    "x = np.array(df_NGC['gmag'])\n",
    "y = np.array(df_NGC['bpmag']- df_NGC['rpmag'])\n",
    "x_s1 = []\n",
    "y_s1=[]\n",
    "x_s2 = []\n",
    "y_s2 = []\n",
    "x_blue = []\n",
    "y_blue = []\n",
    "\n",
    "for i in range(len(x)):\n",
    "    if (13<=x[i]):\n",
    "        x_s1.append(x[i])\n",
    "        y_s1.append(y[i])\n",
    "    elif (0.70 <= y[i]<=0.78) and x[i] >=12.5:\n",
    "        x_s1.append(x[i])\n",
    "        y_s1.append(y[i])\n",
    "    elif x[i]<13 and y[i] < 0.7:\n",
    "        x_blue.append(x[i])\n",
    "        y_blue.append(y[i])\n",
    "    else:\n",
    "        x_s2.append(x[i])\n",
    "        y_s2.append(y[i])\n"
   ]
  },
  {
   "cell_type": "code",
   "execution_count": 5,
   "id": "0aee5b93",
   "metadata": {},
   "outputs": [
    {
     "data": {
      "text/plain": [
       "1427"
      ]
     },
     "execution_count": 5,
     "metadata": {},
     "output_type": "execute_result"
    }
   ],
   "source": [
    "len(x_s1)"
   ]
  },
  {
   "cell_type": "code",
   "execution_count": 6,
   "id": "8ab47024",
   "metadata": {},
   "outputs": [],
   "source": [
    "    # Extract the outliers\n",
    "    outliers_5sigma = [] #outliers outside of the 2 sigma value\n",
    "    y_5sigma = [] # corresponding bp-rp values\n",
    "    outliers_2sigma = [] #outliers outside of the 1.5 sigma value\n",
    "    y_2sigma = [] # corresponding bp-rp values"
   ]
  },
  {
   "cell_type": "code",
   "execution_count": 7,
   "id": "67178e47",
   "metadata": {
    "scrolled": true
   },
   "outputs": [],
   "source": [
    "def rejection(x_s1, y_s1, outliers_5sigma, y_5sigma, outliers_2sigma, y_2sigma):\n",
    "    # get the difference between the values predicted by the model and the actual bp-rp values\n",
    "    for j in range(50):\n",
    "        diff = []\n",
    "        model = np.polyfit(x_s1, y_s1, 8)\n",
    "        predict = np.poly1d(model)\n",
    "        predicted = np.arange(len(x_s1), dtype=float)\n",
    "        for i in range(len(np.array(x_s1))):\n",
    "            predicted[i] = predict(np.array(x_s1)[i])\n",
    "\n",
    "        # get the difference between the values predicted by the model and the actual bp-rp values\n",
    "        diff = y_s1 - predicted\n",
    "\n",
    "        #get the standard deviation of the differences\n",
    "        sigma = []\n",
    "        precision = 0\n",
    "        for n in range(len(x_s1)):\n",
    "            if x_s1[n] <13:\n",
    "                precision = 2*(10**(-3))\n",
    "            elif x_s1[n] < 18:\n",
    "                precision = 10*(10**(-3))\n",
    "            else:\n",
    "                precision = 200*(10**(-3))\n",
    "            sigma.append(np.sqrt(2*precision**2))\n",
    "        sigma = np.array(sigma)\n",
    "        x_filtered = []\n",
    "        y_filtered = []\n",
    "        for k in range(len(diff)):\n",
    "            if diff[k] >= 5*sigma[k]:\n",
    "                outliers_5sigma.append(x_s1[k])\n",
    "                y_5sigma.append(y_s1[k])\n",
    "    \n",
    "            elif diff[k] >= 2*sigma[k]:\n",
    "                outliers_2sigma.append(x_s1[k])\n",
    "                y_2sigma.append(y_s1[k])\n",
    "            else:\n",
    "                x_filtered.append(x_s1[k])\n",
    "                y_filtered.append(y_s1[k])\n",
    "        x_s1 = x_filtered\n",
    "        y_s1 = y_filtered\n",
    "    outliers_5sigma = np.array(outliers_5sigma)\n",
    "    outliers_2sigma = np.array(outliers_2sigma)\n",
    "        \n",
    "    return x_s1, y_s1,outliers_5sigma, y_5sigma, outliers_2sigma, y_2sigma, predict\n"
   ]
  },
  {
   "cell_type": "code",
   "execution_count": 8,
   "id": "1749e946",
   "metadata": {
    "scrolled": true
   },
   "outputs": [
    {
     "name": "stderr",
     "output_type": "stream",
     "text": [
      "<ipython-input-8-ad0eb92d44b5>:1: RankWarning: Polyfit may be poorly conditioned\n",
      "  x_s1, y_s1, outliers_5sigma, y_5sigma, outliers_2sigma, y_2sigma, predict1 = rejection(x_s1, y_s1, outliers_5sigma, y_5sigma, outliers_2sigma, y_2sigma)\n",
      "<ipython-input-8-ad0eb92d44b5>:1: RankWarning: Polyfit may be poorly conditioned\n",
      "  x_s1, y_s1, outliers_5sigma, y_5sigma, outliers_2sigma, y_2sigma, predict1 = rejection(x_s1, y_s1, outliers_5sigma, y_5sigma, outliers_2sigma, y_2sigma)\n",
      "<ipython-input-8-ad0eb92d44b5>:1: RankWarning: Polyfit may be poorly conditioned\n",
      "  x_s1, y_s1, outliers_5sigma, y_5sigma, outliers_2sigma, y_2sigma, predict1 = rejection(x_s1, y_s1, outliers_5sigma, y_5sigma, outliers_2sigma, y_2sigma)\n",
      "<ipython-input-8-ad0eb92d44b5>:1: RankWarning: Polyfit may be poorly conditioned\n",
      "  x_s1, y_s1, outliers_5sigma, y_5sigma, outliers_2sigma, y_2sigma, predict1 = rejection(x_s1, y_s1, outliers_5sigma, y_5sigma, outliers_2sigma, y_2sigma)\n",
      "<ipython-input-8-ad0eb92d44b5>:1: RankWarning: Polyfit may be poorly conditioned\n",
      "  x_s1, y_s1, outliers_5sigma, y_5sigma, outliers_2sigma, y_2sigma, predict1 = rejection(x_s1, y_s1, outliers_5sigma, y_5sigma, outliers_2sigma, y_2sigma)\n",
      "<ipython-input-8-ad0eb92d44b5>:1: RankWarning: Polyfit may be poorly conditioned\n",
      "  x_s1, y_s1, outliers_5sigma, y_5sigma, outliers_2sigma, y_2sigma, predict1 = rejection(x_s1, y_s1, outliers_5sigma, y_5sigma, outliers_2sigma, y_2sigma)\n",
      "<ipython-input-8-ad0eb92d44b5>:1: RankWarning: Polyfit may be poorly conditioned\n",
      "  x_s1, y_s1, outliers_5sigma, y_5sigma, outliers_2sigma, y_2sigma, predict1 = rejection(x_s1, y_s1, outliers_5sigma, y_5sigma, outliers_2sigma, y_2sigma)\n",
      "<ipython-input-8-ad0eb92d44b5>:1: RankWarning: Polyfit may be poorly conditioned\n",
      "  x_s1, y_s1, outliers_5sigma, y_5sigma, outliers_2sigma, y_2sigma, predict1 = rejection(x_s1, y_s1, outliers_5sigma, y_5sigma, outliers_2sigma, y_2sigma)\n",
      "<ipython-input-8-ad0eb92d44b5>:1: RankWarning: Polyfit may be poorly conditioned\n",
      "  x_s1, y_s1, outliers_5sigma, y_5sigma, outliers_2sigma, y_2sigma, predict1 = rejection(x_s1, y_s1, outliers_5sigma, y_5sigma, outliers_2sigma, y_2sigma)\n",
      "<ipython-input-8-ad0eb92d44b5>:1: RankWarning: Polyfit may be poorly conditioned\n",
      "  x_s1, y_s1, outliers_5sigma, y_5sigma, outliers_2sigma, y_2sigma, predict1 = rejection(x_s1, y_s1, outliers_5sigma, y_5sigma, outliers_2sigma, y_2sigma)\n",
      "<ipython-input-8-ad0eb92d44b5>:1: RankWarning: Polyfit may be poorly conditioned\n",
      "  x_s1, y_s1, outliers_5sigma, y_5sigma, outliers_2sigma, y_2sigma, predict1 = rejection(x_s1, y_s1, outliers_5sigma, y_5sigma, outliers_2sigma, y_2sigma)\n",
      "<ipython-input-8-ad0eb92d44b5>:1: RankWarning: Polyfit may be poorly conditioned\n",
      "  x_s1, y_s1, outliers_5sigma, y_5sigma, outliers_2sigma, y_2sigma, predict1 = rejection(x_s1, y_s1, outliers_5sigma, y_5sigma, outliers_2sigma, y_2sigma)\n",
      "<ipython-input-8-ad0eb92d44b5>:1: RankWarning: Polyfit may be poorly conditioned\n",
      "  x_s1, y_s1, outliers_5sigma, y_5sigma, outliers_2sigma, y_2sigma, predict1 = rejection(x_s1, y_s1, outliers_5sigma, y_5sigma, outliers_2sigma, y_2sigma)\n",
      "<ipython-input-8-ad0eb92d44b5>:1: RankWarning: Polyfit may be poorly conditioned\n",
      "  x_s1, y_s1, outliers_5sigma, y_5sigma, outliers_2sigma, y_2sigma, predict1 = rejection(x_s1, y_s1, outliers_5sigma, y_5sigma, outliers_2sigma, y_2sigma)\n",
      "<ipython-input-8-ad0eb92d44b5>:1: RankWarning: Polyfit may be poorly conditioned\n",
      "  x_s1, y_s1, outliers_5sigma, y_5sigma, outliers_2sigma, y_2sigma, predict1 = rejection(x_s1, y_s1, outliers_5sigma, y_5sigma, outliers_2sigma, y_2sigma)\n",
      "<ipython-input-8-ad0eb92d44b5>:1: RankWarning: Polyfit may be poorly conditioned\n",
      "  x_s1, y_s1, outliers_5sigma, y_5sigma, outliers_2sigma, y_2sigma, predict1 = rejection(x_s1, y_s1, outliers_5sigma, y_5sigma, outliers_2sigma, y_2sigma)\n",
      "<ipython-input-8-ad0eb92d44b5>:1: RankWarning: Polyfit may be poorly conditioned\n",
      "  x_s1, y_s1, outliers_5sigma, y_5sigma, outliers_2sigma, y_2sigma, predict1 = rejection(x_s1, y_s1, outliers_5sigma, y_5sigma, outliers_2sigma, y_2sigma)\n",
      "<ipython-input-8-ad0eb92d44b5>:1: RankWarning: Polyfit may be poorly conditioned\n",
      "  x_s1, y_s1, outliers_5sigma, y_5sigma, outliers_2sigma, y_2sigma, predict1 = rejection(x_s1, y_s1, outliers_5sigma, y_5sigma, outliers_2sigma, y_2sigma)\n",
      "<ipython-input-8-ad0eb92d44b5>:1: RankWarning: Polyfit may be poorly conditioned\n",
      "  x_s1, y_s1, outliers_5sigma, y_5sigma, outliers_2sigma, y_2sigma, predict1 = rejection(x_s1, y_s1, outliers_5sigma, y_5sigma, outliers_2sigma, y_2sigma)\n",
      "<ipython-input-8-ad0eb92d44b5>:1: RankWarning: Polyfit may be poorly conditioned\n",
      "  x_s1, y_s1, outliers_5sigma, y_5sigma, outliers_2sigma, y_2sigma, predict1 = rejection(x_s1, y_s1, outliers_5sigma, y_5sigma, outliers_2sigma, y_2sigma)\n",
      "<ipython-input-8-ad0eb92d44b5>:1: RankWarning: Polyfit may be poorly conditioned\n",
      "  x_s1, y_s1, outliers_5sigma, y_5sigma, outliers_2sigma, y_2sigma, predict1 = rejection(x_s1, y_s1, outliers_5sigma, y_5sigma, outliers_2sigma, y_2sigma)\n",
      "<ipython-input-8-ad0eb92d44b5>:1: RankWarning: Polyfit may be poorly conditioned\n",
      "  x_s1, y_s1, outliers_5sigma, y_5sigma, outliers_2sigma, y_2sigma, predict1 = rejection(x_s1, y_s1, outliers_5sigma, y_5sigma, outliers_2sigma, y_2sigma)\n",
      "<ipython-input-8-ad0eb92d44b5>:1: RankWarning: Polyfit may be poorly conditioned\n",
      "  x_s1, y_s1, outliers_5sigma, y_5sigma, outliers_2sigma, y_2sigma, predict1 = rejection(x_s1, y_s1, outliers_5sigma, y_5sigma, outliers_2sigma, y_2sigma)\n",
      "<ipython-input-8-ad0eb92d44b5>:1: RankWarning: Polyfit may be poorly conditioned\n",
      "  x_s1, y_s1, outliers_5sigma, y_5sigma, outliers_2sigma, y_2sigma, predict1 = rejection(x_s1, y_s1, outliers_5sigma, y_5sigma, outliers_2sigma, y_2sigma)\n",
      "<ipython-input-8-ad0eb92d44b5>:1: RankWarning: Polyfit may be poorly conditioned\n",
      "  x_s1, y_s1, outliers_5sigma, y_5sigma, outliers_2sigma, y_2sigma, predict1 = rejection(x_s1, y_s1, outliers_5sigma, y_5sigma, outliers_2sigma, y_2sigma)\n",
      "<ipython-input-8-ad0eb92d44b5>:1: RankWarning: Polyfit may be poorly conditioned\n",
      "  x_s1, y_s1, outliers_5sigma, y_5sigma, outliers_2sigma, y_2sigma, predict1 = rejection(x_s1, y_s1, outliers_5sigma, y_5sigma, outliers_2sigma, y_2sigma)\n",
      "<ipython-input-8-ad0eb92d44b5>:1: RankWarning: Polyfit may be poorly conditioned\n",
      "  x_s1, y_s1, outliers_5sigma, y_5sigma, outliers_2sigma, y_2sigma, predict1 = rejection(x_s1, y_s1, outliers_5sigma, y_5sigma, outliers_2sigma, y_2sigma)\n",
      "<ipython-input-8-ad0eb92d44b5>:1: RankWarning: Polyfit may be poorly conditioned\n",
      "  x_s1, y_s1, outliers_5sigma, y_5sigma, outliers_2sigma, y_2sigma, predict1 = rejection(x_s1, y_s1, outliers_5sigma, y_5sigma, outliers_2sigma, y_2sigma)\n",
      "<ipython-input-8-ad0eb92d44b5>:1: RankWarning: Polyfit may be poorly conditioned\n",
      "  x_s1, y_s1, outliers_5sigma, y_5sigma, outliers_2sigma, y_2sigma, predict1 = rejection(x_s1, y_s1, outliers_5sigma, y_5sigma, outliers_2sigma, y_2sigma)\n",
      "<ipython-input-8-ad0eb92d44b5>:1: RankWarning: Polyfit may be poorly conditioned\n",
      "  x_s1, y_s1, outliers_5sigma, y_5sigma, outliers_2sigma, y_2sigma, predict1 = rejection(x_s1, y_s1, outliers_5sigma, y_5sigma, outliers_2sigma, y_2sigma)\n",
      "<ipython-input-8-ad0eb92d44b5>:1: RankWarning: Polyfit may be poorly conditioned\n",
      "  x_s1, y_s1, outliers_5sigma, y_5sigma, outliers_2sigma, y_2sigma, predict1 = rejection(x_s1, y_s1, outliers_5sigma, y_5sigma, outliers_2sigma, y_2sigma)\n",
      "<ipython-input-8-ad0eb92d44b5>:1: RankWarning: Polyfit may be poorly conditioned\n",
      "  x_s1, y_s1, outliers_5sigma, y_5sigma, outliers_2sigma, y_2sigma, predict1 = rejection(x_s1, y_s1, outliers_5sigma, y_5sigma, outliers_2sigma, y_2sigma)\n",
      "<ipython-input-8-ad0eb92d44b5>:1: RankWarning: Polyfit may be poorly conditioned\n",
      "  x_s1, y_s1, outliers_5sigma, y_5sigma, outliers_2sigma, y_2sigma, predict1 = rejection(x_s1, y_s1, outliers_5sigma, y_5sigma, outliers_2sigma, y_2sigma)\n",
      "<ipython-input-8-ad0eb92d44b5>:1: RankWarning: Polyfit may be poorly conditioned\n",
      "  x_s1, y_s1, outliers_5sigma, y_5sigma, outliers_2sigma, y_2sigma, predict1 = rejection(x_s1, y_s1, outliers_5sigma, y_5sigma, outliers_2sigma, y_2sigma)\n",
      "<ipython-input-8-ad0eb92d44b5>:1: RankWarning: Polyfit may be poorly conditioned\n",
      "  x_s1, y_s1, outliers_5sigma, y_5sigma, outliers_2sigma, y_2sigma, predict1 = rejection(x_s1, y_s1, outliers_5sigma, y_5sigma, outliers_2sigma, y_2sigma)\n",
      "<ipython-input-8-ad0eb92d44b5>:1: RankWarning: Polyfit may be poorly conditioned\n",
      "  x_s1, y_s1, outliers_5sigma, y_5sigma, outliers_2sigma, y_2sigma, predict1 = rejection(x_s1, y_s1, outliers_5sigma, y_5sigma, outliers_2sigma, y_2sigma)\n",
      "<ipython-input-8-ad0eb92d44b5>:1: RankWarning: Polyfit may be poorly conditioned\n",
      "  x_s1, y_s1, outliers_5sigma, y_5sigma, outliers_2sigma, y_2sigma, predict1 = rejection(x_s1, y_s1, outliers_5sigma, y_5sigma, outliers_2sigma, y_2sigma)\n"
     ]
    },
    {
     "name": "stderr",
     "output_type": "stream",
     "text": [
      "<ipython-input-8-ad0eb92d44b5>:1: RankWarning: Polyfit may be poorly conditioned\n",
      "  x_s1, y_s1, outliers_5sigma, y_5sigma, outliers_2sigma, y_2sigma, predict1 = rejection(x_s1, y_s1, outliers_5sigma, y_5sigma, outliers_2sigma, y_2sigma)\n",
      "<ipython-input-8-ad0eb92d44b5>:1: RankWarning: Polyfit may be poorly conditioned\n",
      "  x_s1, y_s1, outliers_5sigma, y_5sigma, outliers_2sigma, y_2sigma, predict1 = rejection(x_s1, y_s1, outliers_5sigma, y_5sigma, outliers_2sigma, y_2sigma)\n",
      "<ipython-input-8-ad0eb92d44b5>:1: RankWarning: Polyfit may be poorly conditioned\n",
      "  x_s1, y_s1, outliers_5sigma, y_5sigma, outliers_2sigma, y_2sigma, predict1 = rejection(x_s1, y_s1, outliers_5sigma, y_5sigma, outliers_2sigma, y_2sigma)\n",
      "<ipython-input-8-ad0eb92d44b5>:1: RankWarning: Polyfit may be poorly conditioned\n",
      "  x_s1, y_s1, outliers_5sigma, y_5sigma, outliers_2sigma, y_2sigma, predict1 = rejection(x_s1, y_s1, outliers_5sigma, y_5sigma, outliers_2sigma, y_2sigma)\n",
      "<ipython-input-8-ad0eb92d44b5>:1: RankWarning: Polyfit may be poorly conditioned\n",
      "  x_s1, y_s1, outliers_5sigma, y_5sigma, outliers_2sigma, y_2sigma, predict1 = rejection(x_s1, y_s1, outliers_5sigma, y_5sigma, outliers_2sigma, y_2sigma)\n",
      "<ipython-input-8-ad0eb92d44b5>:1: RankWarning: Polyfit may be poorly conditioned\n",
      "  x_s1, y_s1, outliers_5sigma, y_5sigma, outliers_2sigma, y_2sigma, predict1 = rejection(x_s1, y_s1, outliers_5sigma, y_5sigma, outliers_2sigma, y_2sigma)\n",
      "<ipython-input-8-ad0eb92d44b5>:1: RankWarning: Polyfit may be poorly conditioned\n",
      "  x_s1, y_s1, outliers_5sigma, y_5sigma, outliers_2sigma, y_2sigma, predict1 = rejection(x_s1, y_s1, outliers_5sigma, y_5sigma, outliers_2sigma, y_2sigma)\n",
      "<ipython-input-8-ad0eb92d44b5>:1: RankWarning: Polyfit may be poorly conditioned\n",
      "  x_s1, y_s1, outliers_5sigma, y_5sigma, outliers_2sigma, y_2sigma, predict1 = rejection(x_s1, y_s1, outliers_5sigma, y_5sigma, outliers_2sigma, y_2sigma)\n",
      "<ipython-input-8-ad0eb92d44b5>:1: RankWarning: Polyfit may be poorly conditioned\n",
      "  x_s1, y_s1, outliers_5sigma, y_5sigma, outliers_2sigma, y_2sigma, predict1 = rejection(x_s1, y_s1, outliers_5sigma, y_5sigma, outliers_2sigma, y_2sigma)\n",
      "<ipython-input-8-ad0eb92d44b5>:1: RankWarning: Polyfit may be poorly conditioned\n",
      "  x_s1, y_s1, outliers_5sigma, y_5sigma, outliers_2sigma, y_2sigma, predict1 = rejection(x_s1, y_s1, outliers_5sigma, y_5sigma, outliers_2sigma, y_2sigma)\n",
      "<ipython-input-8-ad0eb92d44b5>:1: RankWarning: Polyfit may be poorly conditioned\n",
      "  x_s1, y_s1, outliers_5sigma, y_5sigma, outliers_2sigma, y_2sigma, predict1 = rejection(x_s1, y_s1, outliers_5sigma, y_5sigma, outliers_2sigma, y_2sigma)\n",
      "<ipython-input-8-ad0eb92d44b5>:1: RankWarning: Polyfit may be poorly conditioned\n",
      "  x_s1, y_s1, outliers_5sigma, y_5sigma, outliers_2sigma, y_2sigma, predict1 = rejection(x_s1, y_s1, outliers_5sigma, y_5sigma, outliers_2sigma, y_2sigma)\n",
      "<ipython-input-8-ad0eb92d44b5>:1: RankWarning: Polyfit may be poorly conditioned\n",
      "  x_s1, y_s1, outliers_5sigma, y_5sigma, outliers_2sigma, y_2sigma, predict1 = rejection(x_s1, y_s1, outliers_5sigma, y_5sigma, outliers_2sigma, y_2sigma)\n"
     ]
    }
   ],
   "source": [
    "x_s1, y_s1, outliers_5sigma, y_5sigma, outliers_2sigma, y_2sigma, predict1 = rejection(x_s1, y_s1, outliers_5sigma, y_5sigma, outliers_2sigma, y_2sigma)"
   ]
  },
  {
   "cell_type": "code",
   "execution_count": 9,
   "id": "573fc315",
   "metadata": {},
   "outputs": [],
   "source": [
    "x_lin_reg1 = range(6, 21)\n",
    "y_lin_reg1 = predict1(x_lin_reg1)"
   ]
  },
  {
   "cell_type": "code",
   "execution_count": 10,
   "id": "67858b06",
   "metadata": {},
   "outputs": [
    {
     "data": {
      "image/png": "[encoded data removed]",
      "text/plain": [
       "<Figure size 432x288 with 1 Axes>"
      ]
     },
     "metadata": {
      "needs_background": "light"
     },
     "output_type": "display_data"
    }
   ],
   "source": [
    "# plot the good values alongside the rejected values and the fitted line\n",
    "plt.xlim(21,5)\n",
    "plt.ylim(-0.5,3)\n",
    "plt.scatter(x_s1, y_s1, c = 'b', label = 'Main sequence stars', s = 1)\n",
    "plt.scatter(outliers_5sigma, y_5sigma, c = 'g', label = '5 sigma rejection', s=1)\n",
    "plt.scatter(x_s2, y_s2, c = 'y', label = \"non main sequence\", s=1)\n",
    "plt.scatter(outliers_2sigma, y_2sigma, c = 'm',label = '2 sigma rejection', s=1)\n",
    "plt.xlabel('G')\n",
    "plt.ylabel('BP-RP')\n",
    "plt.plot(x_lin_reg1, y_lin_reg1, c = 'r', label='Fitted line1')\n",
    "plt.title('M67')\n",
    "plt.legend()\n",
    "plt.show()"
   ]
  },
  {
   "cell_type": "code",
   "execution_count": 13,
   "id": "04b21483",
   "metadata": {},
   "outputs": [
    {
     "data": {
      "image/png": "[encoded data removed]",
      "text/plain": [
       "<Figure size 432x288 with 1 Axes>"
      ]
     },
     "metadata": {
      "needs_background": "light"
     },
     "output_type": "display_data"
    }
   ],
   "source": [
    "plt.xlim(18,13)\n",
    "plt.ylim(0.5,2)\n",
    "plt.scatter(x_s1, y_s1, c = 'b', label = 'good points', s = 1)\n",
    "plt.scatter(x_s2, y_s2, c = 'b', s=1)\n",
    "plt.xlabel('G')\n",
    "plt.ylabel('BP-RP')\n",
    "plt.title('M67')\n",
    "plt.legend()\n",
    "plt.show()"
   ]
  },
  {
   "cell_type": "code",
   "execution_count": 14,
   "id": "29537605",
   "metadata": {},
   "outputs": [
    {
     "data": {
      "text/plain": [
       "1142"
      ]
     },
     "execution_count": 14,
     "metadata": {},
     "output_type": "execute_result"
    }
   ],
   "source": [
    "len(x_s1)"
   ]
  },
  {
   "cell_type": "code",
   "execution_count": 15,
   "id": "d7ee458c",
   "metadata": {},
   "outputs": [
    {
     "data": {
      "text/plain": [
       "77"
      ]
     },
     "execution_count": 15,
     "metadata": {},
     "output_type": "execute_result"
    }
   ],
   "source": [
    "len(x_s2)"
   ]
  },
  {
   "cell_type": "code",
   "execution_count": null,
   "id": "e10a8948",
   "metadata": {},
   "outputs": [],
   "source": []
  }
 ],
 "metadata": {
  "kernelspec": {
   "display_name": "Python 3",
   "language": "python",
   "name": "python3"
  },
  "language_info": {
   "codemirror_mode": {
    "name": "ipython",
    "version": 3
   },
   "file_extension": ".py",
   "mimetype": "text/x-python",
   "name": "python",
   "nbconvert_exporter": "python",
   "pygments_lexer": "ipython3",
   "version": "3.8.8"
  }
 },
 "nbformat": 4,
 "nbformat_minor": 5
}
