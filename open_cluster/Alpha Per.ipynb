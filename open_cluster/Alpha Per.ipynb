{
 "cells": [
  {
   "cell_type": "code",
   "execution_count": 1,
   "id": "eeec7f73",
   "metadata": {},
   "outputs": [],
   "source": [
    "from astropy.io import fits\n",
    "from astropy.table import Table\n",
    "import pandas as pd\n",
    "import numpy as np\n",
    "import matplotlib.pyplot as plt"
   ]
  },
  {
   "cell_type": "code",
   "execution_count": 2,
   "id": "72f50e19",
   "metadata": {},
   "outputs": [],
   "source": [
    "with fits.open('NearbyClustersGaia_GALEX_SDSS_Skymapper_2MASS_WISE_ASASSN.fits') as hdu:\n",
    "    asn_table = Table(hdu[1].data)\n",
    "df = asn_table.to_pandas()\n",
    "df_Alpha = df[(df['Cluster']=='alphaPer')]"
   ]
  },
  {
   "cell_type": "code",
   "execution_count": 3,
   "id": "93ebbd08",
   "metadata": {},
   "outputs": [
    {
     "name": "stderr",
     "output_type": "stream",
     "text": [
      "<ipython-input-3-ede9c58dde25>:1: SettingWithCopyWarning: \n",
      "A value is trying to be set on a copy of a slice from a DataFrame\n",
      "\n",
      "See the caveats in the documentation: https://pandas.pydata.org/pandas-docs/stable/user_guide/indexing.html#returning-a-view-versus-a-copy\n",
      "  df_Alpha.dropna(subset = ['gmag','rpmag','bpmag'], inplace = True)\n"
     ]
    }
   ],
   "source": [
    "df_Alpha.dropna(subset = ['gmag','rpmag','bpmag'], inplace = True)\n",
    "df_Alpha_sorted = df_Alpha.copy()"
   ]
  },
  {
   "cell_type": "code",
   "execution_count": 4,
   "id": "99480194",
   "metadata": {},
   "outputs": [],
   "source": [
    "df_Alpha_sorted.sort_values(by=['gmag'], inplace=True)"
   ]
  },
  {
   "cell_type": "code",
   "execution_count": 5,
   "id": "58d48bd0",
   "metadata": {},
   "outputs": [],
   "source": [
    "x = np.array(df_Alpha_sorted['gmag'])\n",
    "y = np.array(df_Alpha_sorted['bpmag']- df_Alpha_sorted['rpmag'])\n",
    "x_s1 = []\n",
    "y_s1=[]\n",
    "x_s2 = []\n",
    "y_s2 = []\n",
    "x_s3 = []\n",
    "y_s3 = []\n",
    "for i in range(len(x)):\n",
    "    #if((15.5<=x[i]<=18.5 and y[i]<2.5)or (17.8<=x[i]<=18.5 and y[i]<=3)):\n",
    "     #   x_s3.append(x[i])\n",
    "      #  y_s3.append(y[i])\n",
    "    if(6.5<=x[i]<=13):\n",
    "    #if (13<=x[i]):\n",
    "        x_s1.append(x[i])\n",
    "        y_s1.append(y[i])\n",
    "    elif(13<x[i]<=18):\n",
    "        x_s2.append(x[i])\n",
    "        y_s2.append(y[i])\n",
    "    elif(x[i]<6.5):\n",
    "        x_s3.append(x[i])\n",
    "        y_s3.append(y[i])"
   ]
  },
  {
   "cell_type": "code",
   "execution_count": 6,
   "id": "886a3c53",
   "metadata": {},
   "outputs": [],
   "source": [
    "PMS_x = [17.91471549, 17.86719849, 17.80695149, 17.74655049, 17.68587149,\n",
    "       17.62484049, 17.56341449, 17.50129749, 17.43854849, 17.37506249,\n",
    "       17.30841549, 17.22980249, 17.15069049, 17.05332349, 16.95322849,\n",
    "       16.85281549, 16.75686449, 16.66139249, 16.57147449, 16.48509749,\n",
    "       16.39900949, 16.31420249, 16.23104549, 16.14855849, 16.06875249,\n",
    "       15.98873149, 15.91464049, 15.85054149, 15.80495049, 15.77205649,\n",
    "       15.76513549, 15.75811149, 15.75107749, 15.74401449, 15.73703149,\n",
    "       15.73021749, 15.72361649, 15.71334749, 15.69740149, 15.66922949,\n",
    "       15.60979049, 15.53390549, 15.40832249, 15.26323549, 15.12682949,\n",
    "       14.94460849, 14.77722349, 14.58971649, 14.39188649, 14.21928049,\n",
    "       13.97191449, 13.81403749, 13.64600249, 13.46182849, 13.27141049,\n",
    "       13.08224849, 12.88419849, 12.69427049, 12.51223849, 12.33640749,\n",
    "       12.16549849, 11.99793049, 11.83454849, 11.70034249, 11.63201149,\n",
    "       11.60445449, 11.58256149, 11.54359549, 11.47278549, 11.36372349]\n",
    "PMS_y = [3.220234, 3.203553, 3.182694, 3.162027, 3.141467, 3.120954,\n",
    "       3.10044 , 3.079776, 3.058945, 3.037915, 3.015298, 2.986156,\n",
    "       2.957119, 2.918737, 2.879931, 2.841887, 2.80402 , 2.767456,\n",
    "       2.731462, 2.696179, 2.661598, 2.628725, 2.597809, 2.567912,\n",
    "       2.540201, 2.512479, 2.487058, 2.46518 , 2.449851, 2.439298,\n",
    "       2.437347, 2.435299, 2.433176, 2.430926, 2.428575, 2.426117,\n",
    "       2.423558, 2.419391, 2.412868, 2.402345, 2.38122 , 2.354964,\n",
    "       2.313052, 2.265609, 2.221689, 2.163913, 2.111335, 2.053873,\n",
    "       1.994109, 1.942379, 1.870021, 1.819169, 1.763363, 1.697859,\n",
    "       1.628601, 1.560463, 1.487835, 1.42025 , 1.357659, 1.298793,\n",
    "       1.24355 , 1.188506, 1.134516, 1.089465, 1.060834, 1.045992,\n",
    "       1.034563, 1.021087, 1.004518, 0.981505]"
   ]
  },
  {
   "cell_type": "code",
   "execution_count": 7,
   "id": "c8b3a256",
   "metadata": {},
   "outputs": [
    {
     "data": {
      "image/png": "[encoded data removed]",
      "text/plain": [
       "<Figure size 432x288 with 1 Axes>"
      ]
     },
     "metadata": {
      "needs_background": "light"
     },
     "output_type": "display_data"
    }
   ],
   "source": [
    "plt.scatter(x, y, s = 1)\n",
    "#plt.plot(xs, model(xs), 'r', lw=1)\n",
    "plt.xlim(22,3)\n",
    "plt.xlabel('G')\n",
    "plt.ylabel('BP-RP')\n",
    "plt.show()"
   ]
  },
  {
   "cell_type": "code",
   "execution_count": null,
   "id": "06244b7b",
   "metadata": {},
   "outputs": [],
   "source": []
  },
  {
   "cell_type": "code",
   "execution_count": 8,
   "id": "5931a088",
   "metadata": {},
   "outputs": [],
   "source": [
    "    # Extract the outliers\n",
    "    outliers_5sigma = [] #outliers outside of the 2 sigma value\n",
    "    y_5sigma = [] # corresponding bp-rp values\n",
    "    outliers_2sigma = [] #outliers outside of the 1.5 sigma value\n",
    "    y_2sigma = [] # corresponding bp-rp values"
   ]
  },
  {
   "cell_type": "code",
   "execution_count": 9,
   "id": "8b8e364e",
   "metadata": {},
   "outputs": [],
   "source": [
    "from scipy.interpolate import UnivariateSpline\n",
    "def rejection(x_s1, y_s1, outliers_5sigma, y_5sigma, outliers_2sigma, y_2sigma):\n",
    "    # get the difference between the values predicted by the model and the actual bp-rp values\n",
    "    for j in range(20):\n",
    "        diff = []\n",
    "        model = UnivariateSpline(x_s1, y_s1, k=4)\n",
    "        predicted = model(x_s1)\n",
    "        #predicted = np.arange(len(x_s1), dtype=float)\n",
    "        #for i in range(len(np.array(x_s1))):\n",
    "         #   predicted[i] = predict(np.array(x_s1)[i])\n",
    "\n",
    "        # get the difference between the values predicted by the model and the actual bp-rp values\n",
    "        diff = y_s1 - predicted\n",
    "\n",
    "        #get the standard deviation of the differences\n",
    "        sigma = []\n",
    "        precision = 10*(10**(-3))\n",
    "        for n in range(len(x_s1)):\n",
    "            if x_s1[n] <13:\n",
    "                precision = 8*(10**(-3))\n",
    "            elif x_s1[n] < 18:\n",
    "                precision = 16*(10**(-3))\n",
    "            else:\n",
    "                precision = 200*(10**(-3))\n",
    "            sigma.append(np.sqrt(2*precision**2))\n",
    "        sigma = np.array(sigma)\n",
    "        x_filtered = []\n",
    "        y_filtered = []\n",
    "        if j == 0:\n",
    "            for k in range(len(diff)):\n",
    "                if np.abs(diff[k]) >= 10*sigma[k]: #and 13<= x_s1[k]< 18:\n",
    "                    outliers_5sigma.append(x_s1[k])\n",
    "                    y_5sigma.append(y_s1[k])\n",
    "\n",
    "                #elif diff[k] >= 2*sigma[k]:\n",
    "                 #   outliers_2sigma.append(x_s1[k])\n",
    "                  #  y_2sigma.append(y_s1[k])\n",
    "                else:\n",
    "                    x_filtered.append(x_s1[k])\n",
    "                    y_filtered.append(y_s1[k])\n",
    "            x_s1 = x_filtered\n",
    "            y_s1 = y_filtered\n",
    "        else:\n",
    "            for k in range(len(diff)):\n",
    "                if np.abs(diff[k]) >= 5*sigma[k]:\n",
    "                    outliers_5sigma.append(x_s1[k])\n",
    "                    y_5sigma.append(y_s1[k])\n",
    "\n",
    "                #elif diff[k] >= 2*sigma[k]:\n",
    "                 #   outliers_2sigma.append(x_s1[k])\n",
    "                  #  y_2sigma.append(y_s1[k])\n",
    "                else:\n",
    "                    x_filtered.append(x_s1[k])\n",
    "                    y_filtered.append(y_s1[k])\n",
    "            x_s1 = x_filtered\n",
    "            y_s1 = y_filtered\n",
    "        \n",
    "    return x_s1, y_s1,outliers_5sigma, y_5sigma, outliers_2sigma, y_2sigma, model\n",
    "\n"
   ]
  },
  {
   "cell_type": "code",
   "execution_count": 10,
   "id": "85cad7c6",
   "metadata": {},
   "outputs": [],
   "source": [
    "x_s1, y_s1, outliers_5sigma, y_5sigma, outliers_2sigma, y_2sigma, model = rejection(x_s1, y_s1, outliers_5sigma, y_5sigma, outliers_2sigma, y_2sigma)\n",
    "x_s2, y_s2, outliers_5sigma, y_5sigma, outliers_2sigma, y_2sigma, model1 = rejection(x_s2, y_s2, outliers_5sigma, y_5sigma, outliers_2sigma, y_2sigma)\n",
    "\n",
    "\n"
   ]
  },
  {
   "cell_type": "code",
   "execution_count": 11,
   "id": "460c9367",
   "metadata": {},
   "outputs": [
    {
     "data": {
      "image/png": "[encoded data removed]",
      "text/plain": [
       "<Figure size 432x288 with 1 Axes>"
      ]
     },
     "metadata": {
      "needs_background": "light"
     },
     "output_type": "display_data"
    }
   ],
   "source": [
    "# plot the good values alongside the rejected values and the fitted line\n",
    "plt.xlim(20,3)\n",
    "plt.ylim(-0.2,4)\n",
    "xs = np.linspace(3, 13, 1000)\n",
    "xs1 = np.linspace(13,20,1000)\n",
    "plt.plot(xs, model(xs), 'r', label = 'fitted line',lw=1)\n",
    "plt.plot(xs1, model1(xs1), 'r', lw=1)\n",
    "plt.scatter(x_s2, y_s2, c = 'b', label = 'Main sequence stars', s = 1)\n",
    "plt.scatter(x_s1, y_s1, c = 'b', s = 1)\n",
    "plt.scatter(x_s3, y_s3 , c = 'm', label = 'non main sequence', s = 1)\n",
    "plt.scatter(PMS_x, PMS_y, c = 'c', label = 'iso PMS', s=1)\n",
    "plt.scatter(outliers_5sigma, y_5sigma, c = 'g', label = '5 sigma rejection', s=1)\n",
    "#plt.scatter(outliers_2sigma, y_2sigma, c = 'm',label = '2 sigma rejection', s=1)\n",
    "plt.xlabel('G')\n",
    "plt.ylabel('BP-RP')\n",
    "\n",
    "#plt.plot(x_lin_reg1, y_lin_reg1, c = 'r', label='Fitted line1')\n",
    "plt.title('Alpha Per')\n",
    "plt.legend()\n",
    "plt.show()"
   ]
  },
  {
   "cell_type": "code",
   "execution_count": 12,
   "id": "c843eb0d",
   "metadata": {},
   "outputs": [
    {
     "data": {
      "text/plain": [
       "121"
      ]
     },
     "execution_count": 12,
     "metadata": {},
     "output_type": "execute_result"
    }
   ],
   "source": [
    "len(x_s1)"
   ]
  },
  {
   "cell_type": "code",
   "execution_count": 13,
   "id": "21cc61f1",
   "metadata": {},
   "outputs": [
    {
     "data": {
      "text/plain": [
       "332"
      ]
     },
     "execution_count": 13,
     "metadata": {},
     "output_type": "execute_result"
    }
   ],
   "source": [
    "len(x_s2)"
   ]
  },
  {
   "cell_type": "code",
   "execution_count": null,
   "id": "6c7983e9",
   "metadata": {},
   "outputs": [],
   "source": []
  }
 ],
 "metadata": {
  "kernelspec": {
   "display_name": "Python 3",
   "language": "python",
   "name": "python3"
  },
  "language_info": {
   "codemirror_mode": {
    "name": "ipython",
    "version": 3
   },
   "file_extension": ".py",
   "mimetype": "text/x-python",
   "name": "python",
   "nbconvert_exporter": "python",
   "pygments_lexer": "ipython3",
   "version": "3.8.8"
  }
 },
 "nbformat": 4,
 "nbformat_minor": 5
}
