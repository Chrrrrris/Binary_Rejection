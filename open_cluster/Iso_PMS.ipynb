{
 "cells": [
  {
   "cell_type": "code",
   "execution_count": 6,
   "id": "2eaaaf25",
   "metadata": {},
   "outputs": [
    {
     "data": {
      "text/plain": [
       "'read_mist_models.py'"
      ]
     },
     "execution_count": 6,
     "metadata": {},
     "output_type": "execute_result"
    }
   ],
   "source": [
    "import wget\n",
    "wget.download('https://github.com/jieunchoi/MIST_codes/raw/master/scripts/' +\n",
    "         'read_mist_models.py')"
   ]
  },
  {
   "cell_type": "code",
   "execution_count": 5,
   "id": "4430a568",
   "metadata": {},
   "outputs": [
    {
     "name": "stdout",
     "output_type": "stream",
     "text": [
      "Collecting wget\n",
      "  Downloading wget-3.2.zip (10 kB)\n",
      "Building wheels for collected packages: wget\n",
      "  Building wheel for wget (setup.py) ... \u001b[?25ldone\n",
      "\u001b[?25h  Created wheel for wget: filename=wget-3.2-py3-none-any.whl size=9680 sha256=1df9d32ae322774e5bc5ef634f894f47de5feebaaa9f71414018068f22802f87\n",
      "  Stored in directory: /Users/chris.w/Library/Caches/pip/wheels/bd/a8/c3/3cf2c14a1837a4e04bd98631724e81f33f462d86a1d895fae0\n",
      "Successfully built wget\n",
      "Installing collected packages: wget\n",
      "Successfully installed wget-3.2\n",
      "Note: you may need to restart the kernel to use updated packages.\n"
     ]
    }
   ],
   "source": [
    "pip install wget"
   ]
  },
  {
   "cell_type": "code",
   "execution_count": 10,
   "id": "3280746b",
   "metadata": {},
   "outputs": [],
   "source": [
    "%matplotlib inline\n",
    "import read_mist_models\n",
    "import numpy as np\n",
    "import matplotlib.pyplot as plt"
   ]
  },
  {
   "cell_type": "code",
   "execution_count": 44,
   "id": "51478591",
   "metadata": {},
   "outputs": [
    {
     "name": "stdout",
     "output_type": "stream",
     "text": [
      "Reading in: MIST_iso_62683c2b19a86.iso.cmd\n"
     ]
    }
   ],
   "source": [
    "iso = read_mist_models.ISOCMD('MIST_iso_62683c2b19a86.iso.cmd')"
   ]
  },
  {
   "cell_type": "code",
   "execution_count": 45,
   "id": "f1060ec9",
   "metadata": {},
   "outputs": [],
   "source": [
    "iso_array = iso.isocmds[0]"
   ]
  },
  {
   "cell_type": "code",
   "execution_count": 53,
   "id": "02cc280f",
   "metadata": {},
   "outputs": [
    {
     "data": {
      "text/plain": [
       "dtype([('EEP', '<i4'), ('log10_isochrone_age_yr', '<f8'), ('initial_mass', '<f8'), ('star_mass', '<f8'), ('log_Teff', '<f8'), ('log_g', '<f8'), ('log_L', '<f8'), ('[Fe/H]_init', '<f8'), ('[Fe/H]', '<f8'), ('Bessell_U', '<f8'), ('Bessell_B', '<f8'), ('Bessell_V', '<f8'), ('Bessell_R', '<f8'), ('Bessell_I', '<f8'), ('2MASS_J', '<f8'), ('2MASS_H', '<f8'), ('2MASS_Ks', '<f8'), ('Kepler_Kp', '<f8'), ('Kepler_D51', '<f8'), ('Hipparcos_Hp', '<f8'), ('Tycho_B', '<f8'), ('Tycho_V', '<f8'), ('Gaia_G_DR2Rev', '<f8'), ('Gaia_BP_DR2Rev', '<f8'), ('Gaia_RP_DR2Rev', '<f8'), ('Gaia_G_MAW', '<f8'), ('Gaia_BP_MAWb', '<f8'), ('Gaia_BP_MAWf', '<f8'), ('Gaia_RP_MAW', '<f8'), ('TESS', '<f8'), ('Gaia_G_EDR3', '<f8'), ('Gaia_BP_EDR3', '<f8'), ('Gaia_RP_EDR3', '<f8'), ('phase', '<f8')])"
      ]
     },
     "execution_count": 53,
     "metadata": {},
     "output_type": "execute_result"
    }
   ],
   "source": [
    "iso_array.dtype"
   ]
  },
  {
   "cell_type": "code",
   "execution_count": 47,
   "id": "51ea6d3c",
   "metadata": {},
   "outputs": [],
   "source": [
    "phase_mask = (iso_array['phase'] < 0)"
   ]
  },
  {
   "cell_type": "code",
   "execution_count": 48,
   "id": "81251eca",
   "metadata": {},
   "outputs": [
    {
     "data": {
      "text/plain": [
       "70"
      ]
     },
     "execution_count": 48,
     "metadata": {},
     "output_type": "execute_result"
    }
   ],
   "source": [
    "phase_mask.sum()"
   ]
  },
  {
   "cell_type": "code",
   "execution_count": 49,
   "id": "0ce3d38c",
   "metadata": {},
   "outputs": [
    {
     "data": {
      "text/plain": [
       "70"
      ]
     },
     "execution_count": 49,
     "metadata": {},
     "output_type": "execute_result"
    }
   ],
   "source": [
    "prems = iso_array[phase_mask]\n",
    "len(prems)"
   ]
  },
  {
   "cell_type": "code",
   "execution_count": 50,
   "id": "02f37735",
   "metadata": {},
   "outputs": [
    {
     "data": {
      "text/plain": [
       "5.951658490851457"
      ]
     },
     "execution_count": 50,
     "metadata": {},
     "output_type": "execute_result"
    }
   ],
   "source": [
    "import astropy.coordinates as coord\n",
    "import astropy.units as u\n",
    "distance = 155 * u.pc\n",
    "distmod = coord.Distance(distance).distmod.value\n",
    "distmod\n"
   ]
  },
  {
   "cell_type": "code",
   "execution_count": 57,
   "id": "921ab71e",
   "metadata": {},
   "outputs": [],
   "source": [
    "mag_g = prems['Gaia_G_DR2Rev'] + distmod\n",
    "color = prems['Gaia_BP_DR2Rev'] - prems['Gaia_RP_DR2Rev']"
   ]
  },
  {
   "cell_type": "code",
   "execution_count": 60,
   "id": "838129c2",
   "metadata": {},
   "outputs": [
    {
     "data": {
      "text/plain": [
       "array([17.91471549, 17.86719849, 17.80695149, 17.74655049, 17.68587149,\n",
       "       17.62484049, 17.56341449, 17.50129749, 17.43854849, 17.37506249,\n",
       "       17.30841549, 17.22980249, 17.15069049, 17.05332349, 16.95322849,\n",
       "       16.85281549, 16.75686449, 16.66139249, 16.57147449, 16.48509749,\n",
       "       16.39900949, 16.31420249, 16.23104549, 16.14855849, 16.06875249,\n",
       "       15.98873149, 15.91464049, 15.85054149, 15.80495049, 15.77205649,\n",
       "       15.76513549, 15.75811149, 15.75107749, 15.74401449, 15.73703149,\n",
       "       15.73021749, 15.72361649, 15.71334749, 15.69740149, 15.66922949,\n",
       "       15.60979049, 15.53390549, 15.40832249, 15.26323549, 15.12682949,\n",
       "       14.94460849, 14.77722349, 14.58971649, 14.39188649, 14.21928049,\n",
       "       13.97191449, 13.81403749, 13.64600249, 13.46182849, 13.27141049,\n",
       "       13.08224849, 12.88419849, 12.69427049, 12.51223849, 12.33640749,\n",
       "       12.16549849, 11.99793049, 11.83454849, 11.70034249, 11.63201149,\n",
       "       11.60445449, 11.58256149, 11.54359549, 11.47278549, 11.36372349])"
      ]
     },
     "execution_count": 60,
     "metadata": {},
     "output_type": "execute_result"
    }
   ],
   "source": [
    "mag_g"
   ]
  },
  {
   "cell_type": "code",
   "execution_count": 66,
   "id": "aa95c0f8",
   "metadata": {},
   "outputs": [
    {
     "data": {
      "text/plain": [
       "array([3.220234, 3.203553, 3.182694, 3.162027, 3.141467, 3.120954,\n",
       "       3.10044 , 3.079776, 3.058945, 3.037915, 3.015298, 2.986156,\n",
       "       2.957119, 2.918737, 2.879931, 2.841887, 2.80402 , 2.767456,\n",
       "       2.731462, 2.696179, 2.661598, 2.628725, 2.597809, 2.567912,\n",
       "       2.540201, 2.512479, 2.487058, 2.46518 , 2.449851, 2.439298,\n",
       "       2.437347, 2.435299, 2.433176, 2.430926, 2.428575, 2.426117,\n",
       "       2.423558, 2.419391, 2.412868, 2.402345, 2.38122 , 2.354964,\n",
       "       2.313052, 2.265609, 2.221689, 2.163913, 2.111335, 2.053873,\n",
       "       1.994109, 1.942379, 1.870021, 1.819169, 1.763363, 1.697859,\n",
       "       1.628601, 1.560463, 1.487835, 1.42025 , 1.357659, 1.298793,\n",
       "       1.24355 , 1.188506, 1.134516, 1.089465, 1.060834, 1.045992,\n",
       "       1.034563, 1.021087, 1.004518, 0.981505])"
      ]
     },
     "execution_count": 66,
     "metadata": {},
     "output_type": "execute_result"
    }
   ],
   "source": [
    "color"
   ]
  },
  {
   "cell_type": "code",
   "execution_count": 65,
   "id": "b3bedaf8",
   "metadata": {},
   "outputs": [
    {
     "data": {
      "text/plain": [
       "(19.0, 11.0)"
      ]
     },
     "execution_count": 65,
     "metadata": {},
     "output_type": "execute_result"
    },
    {
     "data": {
      "image/png": "[encoded data removed]",
      "text/plain": [
       "<Figure size 432x288 with 1 Axes>"
      ]
     },
     "metadata": {
      "needs_background": "light"
     },
     "output_type": "display_data"
    }
   ],
   "source": [
    "plt.scatter(mag_g, color, s=1)\n",
    "plt.xlabel('G')\n",
    "plt.ylabel('Bp-Rp')\n",
    "plt.xlim(19,11)"
   ]
  },
  {
   "cell_type": "code",
   "execution_count": null,
   "id": "da1508c1",
   "metadata": {},
   "outputs": [],
   "source": []
  }
 ],
 "metadata": {
  "kernelspec": {
   "display_name": "Python 3",
   "language": "python",
   "name": "python3"
  },
  "language_info": {
   "codemirror_mode": {
    "name": "ipython",
    "version": 3
   },
   "file_extension": ".py",
   "mimetype": "text/x-python",
   "name": "python",
   "nbconvert_exporter": "python",
   "pygments_lexer": "ipython3",
   "version": "3.8.8"
  }
 },
 "nbformat": 4,
 "nbformat_minor": 5
}
