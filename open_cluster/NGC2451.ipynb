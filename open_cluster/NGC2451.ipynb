{
 "cells": [
  {
   "cell_type": "code",
   "execution_count": 2,
   "id": "ff32ecf8-5979-410a-9489-ed23ab67f3ad",
   "metadata": {},
   "outputs": [],
   "source": [
    "def rejection(x_s1, y_s1, outliers_5sigma, y_5sigma, outliers_2sigma, y_2sigma):\n",
    "    # get the difference between the values predicted by the model and the actual bp-rp values\n",
    "    for j in range(1):\n",
    "        diff = []\n",
    "        model = np.polyfit(x_s1, y_s1, 10)\n",
    "        predict = np.poly1d(model)\n",
    "        predicted = np.arange(len(x_s1), dtype=float)\n",
    "        for i in range(len(np.array(x_s1))):\n",
    "            predicted[i] = predict(np.array(x_s1)[i])\n",
    "\n",
    "        # get the difference between the values predicted by the model and the actual bp-rp values\n",
    "        diff = y_s1 - predicted\n",
    "\n",
    "        #get the standard deviation of the differences\n",
    "        sigma = []\n",
    "        precision = 10*(10**(-3))\n",
    "        for n in range(len(x_s1)):\n",
    "            if x_s1[n] <13:\n",
    "                precision = 2*(10**(-3))\n",
    "            elif x_s1[n] < 18:\n",
    "                precision = 10*(10**(-3))\n",
    "            else:\n",
    "                precision = 200*(10**(-3))\n",
    "            sigma.append(np.sqrt(2*precision**2))\n",
    "        sigma = np.array(sigma)\n",
    "        x_filtered = []\n",
    "        y_filtered = []\n",
    "        for k in range(len(diff)):\n",
    "            if diff[k] >= 5*sigma[k]:\n",
    "                outliers_5sigma.append(x_s1[k])\n",
    "                y_5sigma.append(y_s1[k])\n",
    "    \n",
    "         #   elif diff[k] >= 2*sigma[k]:\n",
    "         #       outliers_2sigma.append(x_s1[k])\n",
    "         #       y_2sigma.append(y_s1[k])\n",
    "            else:\n",
    "                x_filtered.append(x_s1[k])\n",
    "                y_filtered.append(y_s1[k])\n",
    "        x_s1 = x_filtered\n",
    "        y_s1 = y_filtered\n",
    "    outliers_5sigma = np.array(outliers_5sigma)\n",
    "    outliers_2sigma = np.array(outliers_2sigma)\n",
    "        \n",
    "    return x_s1, y_s1,outliers_5sigma, y_5sigma, outliers_2sigma, y_2sigma, predict\n",
    "\n"
   ]
  },
  {
   "cell_type": "code",
   "execution_count": 3,
   "id": "c0a31e4d-1c3e-43e5-b89c-cb7086c30e7a",
   "metadata": {},
   "outputs": [],
   "source": [
    "from astropy.io import fits\n",
    "from astropy.table import Table\n",
    "import pandas as pd\n",
    "import numpy as np\n",
    "import matplotlib.pyplot as plt"
   ]
  },
  {
   "cell_type": "code",
   "execution_count": 4,
   "id": "cf400879-441e-4267-94e8-bc8dd8626d43",
   "metadata": {},
   "outputs": [],
   "source": [
    "with fits.open('NearbyClustersGaia_GALEX_SDSS_Skymapper_2MASS_WISE_ASASSN.fits') as hdu:\n",
    "    asn_table = Table(hdu[1].data)\n",
    "df = asn_table.to_pandas()\n",
    "df_NGC = df[(df['Cluster']=='NGC2451 ')]"
   ]
  },
  {
   "cell_type": "code",
   "execution_count": 5,
   "id": "5818edf4-99c3-4615-b16d-984bee915a38",
   "metadata": {},
   "outputs": [
    {
     "name": "stderr",
     "output_type": "stream",
     "text": [
      "<ipython-input-5-557ff63e5e39>:1: SettingWithCopyWarning: \n",
      "A value is trying to be set on a copy of a slice from a DataFrame\n",
      "\n",
      "See the caveats in the documentation: https://pandas.pydata.org/pandas-docs/stable/user_guide/indexing.html#returning-a-view-versus-a-copy\n",
      "  df_NGC.dropna(subset = ['gmag','rpmag','bpmag'], inplace = True)\n"
     ]
    }
   ],
   "source": [
    "df_NGC.dropna(subset = ['gmag','rpmag','bpmag'], inplace = True)"
   ]
  },
  {
   "cell_type": "code",
   "execution_count": 6,
   "id": "ed677ef6-ecd4-47a8-8bbb-4f973dad7dd2",
   "metadata": {},
   "outputs": [],
   "source": [
    "x = np.array(df_NGC['gmag'])\n",
    "y = np.array(df_NGC['bpmag']- df_NGC['rpmag'])\n",
    "x_s1 = []\n",
    "y_s1=[]\n",
    "for i in range(len(x)):\n",
    "#    if (13<=x[i]):\n",
    "        x_s1.append(x[i])\n",
    "        y_s1.append(y[i])"
   ]
  },
  {
   "cell_type": "code",
   "execution_count": 7,
   "id": "d79bb52d-d6f2-4a2a-ba71-701b3710f30c",
   "metadata": {},
   "outputs": [
    {
     "data": {
      "image/png": "[encoded data removed]",
      "text/plain": [
       "<Figure size 640x480 with 1 Axes>"
      ]
     },
     "metadata": {},
     "output_type": "display_data"
    }
   ],
   "source": [
    "plt.scatter(x, y, s = 1)\n",
    "plt.xlim(22,3)\n",
    "plt.xlabel('G')\n",
    "plt.ylabel('BP-RP')\n",
    "plt.show()"
   ]
  },
  {
   "cell_type": "code",
   "execution_count": 8,
   "id": "34e30149-f550-43d5-bd18-ac19a90ce459",
   "metadata": {},
   "outputs": [],
   "source": [
    "    # Extract the outliers\n",
    "    outliers_5sigma = [] #outliers outside of the 2 sigma value\n",
    "    y_5sigma = [] # corresponding bp-rp values\n",
    "    outliers_2sigma = [] #outliers outside of the 1.5 sigma value\n",
    "    y_2sigma = [] # corresponding bp-rp values"
   ]
  },
  {
   "cell_type": "code",
   "execution_count": 9,
   "id": "6fc28a40-b460-4a7d-bb82-486f0dfd1362",
   "metadata": {},
   "outputs": [
    {
     "name": "stderr",
     "output_type": "stream",
     "text": [
      "<ipython-input-9-ad0eb92d44b5>:1: RankWarning: Polyfit may be poorly conditioned\n",
      "  x_s1, y_s1, outliers_5sigma, y_5sigma, outliers_2sigma, y_2sigma, predict1 = rejection(x_s1, y_s1, outliers_5sigma, y_5sigma, outliers_2sigma, y_2sigma)\n"
     ]
    }
   ],
   "source": [
    "x_s1, y_s1, outliers_5sigma, y_5sigma, outliers_2sigma, y_2sigma, predict1 = rejection(x_s1, y_s1, outliers_5sigma, y_5sigma, outliers_2sigma, y_2sigma)"
   ]
  },
  {
   "cell_type": "code",
   "execution_count": 10,
   "id": "c3d3f91c-8653-4f0f-95fd-49f0df6f028f",
   "metadata": {},
   "outputs": [],
   "source": [
    "x_lin_reg1 = range(3, 21)\n",
    "y_lin_reg1 = predict1(x_lin_reg1)"
   ]
  },
  {
   "cell_type": "code",
   "execution_count": 11,
   "id": "e1946749-e014-45ff-b46d-f85a069daf43",
   "metadata": {},
   "outputs": [
    {
     "data": {
      "image/png": "[encoded data removed]",
      "text/plain": [
       "<Figure size 640x480 with 1 Axes>"
      ]
     },
     "metadata": {},
     "output_type": "display_data"
    }
   ],
   "source": [
    "# plot the good values alongside the rejected values and the fitted line\n",
    "plt.xlim(21,2)\n",
    "plt.scatter(x_s1, y_s1, c = 'b', label = 'Main sequence stars', s = 1)\n",
    "plt.scatter(outliers_5sigma, y_5sigma, c = 'g', label = '5 sigma rejection', s=1)\n",
    "#plt.scatter(outliers_2sigma, y_2sigma, c = 'm',label = '2 sigma rejection', s=1)\n",
    "plt.xlabel('G')\n",
    "plt.ylabel('BP-RP')\n",
    "#plt.plot(x_lin_reg1, y_lin_reg1, c = 'r', label='Fitted line1')\n",
    "plt.title('NGC2451')\n",
    "plt.legend()\n",
    "plt.show()"
   ]
  },
  {
   "cell_type": "code",
   "execution_count": null,
   "id": "38b27c04-8674-40dd-a394-41ec2879e560",
   "metadata": {},
   "outputs": [],
   "source": []
  }
 ],
 "metadata": {
  "kernelspec": {
   "display_name": "Python 3",
   "language": "python",
   "name": "python3"
  },
  "language_info": {
   "codemirror_mode": {
    "name": "ipython",
    "version": 3
   },
   "file_extension": ".py",
   "mimetype": "text/x-python",
   "name": "python",
   "nbconvert_exporter": "python",
   "pygments_lexer": "ipython3",
   "version": "3.9.4"
  }
 },
 "nbformat": 4,
 "nbformat_minor": 5
}
